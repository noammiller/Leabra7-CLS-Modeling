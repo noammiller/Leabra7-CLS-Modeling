{
 "cells": [
  {
   "cell_type": "code",
   "execution_count": 1,
   "metadata": {},
   "outputs": [],
   "source": [
    "from typing import List\n",
    "\n",
    "import matplotlib\n",
    "import pandas as pd\n",
    "import matplotlib.pyplot as plt\n",
    "\n",
    "import leabra7.net\n",
    "\n",
    "%matplotlib inline"
   ]
  },
  {
   "cell_type": "code",
   "execution_count": 2,
   "metadata": {},
   "outputs": [],
   "source": [
    "# Create the network\n",
    "net = leabra7.net.Net()\n",
    "\n",
    "# Set options for our layers\n",
    "layer_spec = leabra7.specs.LayerSpec(\n",
    "    # For each layer, log the unit potential\n",
    "    log_on_cycle=(\"unit_v_m\", \"unit_act\", \"unit_i_net\",\n",
    "                  \"unit_net\", \"unit_gc_i\", \"unit_adapt\",\n",
    "                  \"unit_spike\")\n",
    ")\n",
    "\n",
    "projn_spec = leabra7.specs.ProjnSpec(\n",
    "    dist=leabra7.rand.Gaussian(mean=0.5, var=0.3)\n",
    ")\n",
    "\n",
    "# Create input and output layers\n",
    "net.new_layer(\"EC_in\", 8, layer_spec)\n",
    "net.new_layer(\"EC_out\", 8, layer_spec)\n",
    "\n",
    "# Create cortical layers\n",
    "net.new_layer(\"CA1\", 100, layer_spec)\n",
    "net.new_layer(\"CA3\", 80, layer_spec)\n",
    "\n",
    "# Create hippocampus\n",
    "net.new_layer(\"DG\", 400, layer_spec)\n",
    "\n",
    "# Create MSP\n",
    "net.new_projn(\"MSP: EC_in->CA1\", \"EC_in\", \"CA1\", spec=projn_spec)\n",
    "net.new_projn(\"MSP: CA1->EC_out\", \"CA1\", \"EC_out\", spec=projn_spec)\n",
    "net.new_projn(\"MSP: EC_out->CA1\", \"EC_out\", \"CA1\", spec=projn_spec)\n",
    "\n",
    "# Create TSP\n",
    "net.new_projn(\"TSP: EC_in->DG\", \"EC_in\", \"DG\", spec=projn_spec)\n",
    "net.new_projn(\"TSP: EC_in->CA3\", \"EC_in\", \"CA3\", spec=projn_spec)\n",
    "net.new_projn(\"TSP: DG->CA3\", \"DG\", \"CA3\", spec=projn_spec)\n",
    "net.new_projn(\"TSP: CA3->CA3\", \"CA3\", \"CA3\", spec=projn_spec)\n",
    "net.new_projn(\"TSP: CA3->CA1\", \"CA3\", \"CA1\", spec=projn_spec)\n",
    "\n",
    "# Run 200 cycles\n",
    "for i in range(100):\n",
    "#     net.force_layer(name=\"EC_in\", acts =[1])\n",
    "    net.cycle()"
   ]
  },
  {
   "cell_type": "code",
   "execution_count": 3,
   "metadata": {},
   "outputs": [],
   "source": [
    "# Function to plot data for a certain attribute for each unit of layer\n",
    "def plot_by_unit(axes: List[matplotlib.axes.Axes], \n",
    "                 log: pd.DataFrame, attr: str, title: str, location: List):\n",
    "    for name, group in log.groupby(\"unit\"):\n",
    "        group.plot(x=\"time\", y=attr, ax=axes[location], \n",
    "                   title = title, label=\"unit \" + str(name))"
   ]
  },
  {
   "cell_type": "code",
   "execution_count": null,
   "metadata": {},
   "outputs": [],
   "source": []
  }
 ],
 "metadata": {
  "kernelspec": {
   "display_name": "Python 3",
   "language": "python",
   "name": "python3"
  },
  "language_info": {
   "codemirror_mode": {
    "name": "ipython",
    "version": 3
   },
   "file_extension": ".py",
   "mimetype": "text/x-python",
   "name": "python",
   "nbconvert_exporter": "python",
   "pygments_lexer": "ipython3",
   "version": "3.6.4"
  }
 },
 "nbformat": 4,
 "nbformat_minor": 2
}
